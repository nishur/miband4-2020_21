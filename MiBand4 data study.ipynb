{
 "cells": [
  {
   "cell_type": "code",
   "execution_count": 1,
   "metadata": {},
   "outputs": [],
   "source": [
    "import os\n",
    "import datetime\n",
    "import pandas as pd\n",
    "import seaborn as sns\n",
    "import matplotlib.pyplot as plt\n",
    "\n",
    "%matplotlib inline"
   ]
  },
  {
   "cell_type": "code",
   "execution_count": 42,
   "metadata": {},
   "outputs": [
    {
     "data": {
      "text/plain": [
       "['ACTIVITY',\n",
       " 'ACTIVITY_MINUTE',\n",
       " 'ACTIVITY_STAGE',\n",
       " 'BODY',\n",
       " 'HEARTRATE',\n",
       " 'HEARTRATE_AUTO',\n",
       " 'SLEEP',\n",
       " 'SPORT',\n",
       " 'USER']"
      ]
     },
     "execution_count": 42,
     "metadata": {},
     "output_type": "execute_result"
    }
   ],
   "source": [
    "os.listdir(r'D:\\Projects\\Rehabilitation\\MiFit Band4 data\\6006145144_1622005409059')"
   ]
  },
  {
   "cell_type": "code",
   "execution_count": 2,
   "metadata": {},
   "outputs": [
    {
     "data": {
      "text/plain": [
       "['ACTIVITY_1622005407994.csv']"
      ]
     },
     "execution_count": 2,
     "metadata": {},
     "output_type": "execute_result"
    }
   ],
   "source": [
    "os.listdir(r'D:\\Projects\\Rehabilitation\\MiFit Band4 data\\6006145144_1622005409059\\ACTIVITY')"
   ]
  },
  {
   "cell_type": "code",
   "execution_count": 5,
   "metadata": {},
   "outputs": [
    {
     "name": "stdout",
     "output_type": "stream",
     "text": [
      "<class 'pandas.core.frame.DataFrame'>\n",
      "RangeIndex: 198 entries, 0 to 197\n",
      "Data columns (total 6 columns):\n",
      " #   Column        Non-Null Count  Dtype \n",
      "---  ------        --------------  ----- \n",
      " 0   date          198 non-null    object\n",
      " 1   lastSyncTime  198 non-null    int64 \n",
      " 2   steps         198 non-null    int64 \n",
      " 3   distance      198 non-null    int64 \n",
      " 4   runDistance   198 non-null    int64 \n",
      " 5   calories      198 non-null    int64 \n",
      "dtypes: int64(5), object(1)\n",
      "memory usage: 9.4+ KB\n"
     ]
    }
   ],
   "source": [
    "activity = pd.read_csv(\n",
    "    r'D:\\Projects\\Rehabilitation\\MiFit Band4 data\\6006145144_1622005409059\\ACTIVITY\\ACTIVITY_1622005407994.csv')\n",
    "\n",
    "activity.info()"
   ]
  },
  {
   "cell_type": "code",
   "execution_count": 12,
   "metadata": {},
   "outputs": [
    {
     "data": {
      "text/html": [
       "<div>\n",
       "<style scoped>\n",
       "    .dataframe tbody tr th:only-of-type {\n",
       "        vertical-align: middle;\n",
       "    }\n",
       "\n",
       "    .dataframe tbody tr th {\n",
       "        vertical-align: top;\n",
       "    }\n",
       "\n",
       "    .dataframe thead th {\n",
       "        text-align: right;\n",
       "    }\n",
       "</style>\n",
       "<table border=\"1\" class=\"dataframe\">\n",
       "  <thead>\n",
       "    <tr style=\"text-align: right;\">\n",
       "      <th></th>\n",
       "      <th>date</th>\n",
       "      <th>lastSyncTime</th>\n",
       "      <th>steps</th>\n",
       "      <th>distance</th>\n",
       "      <th>runDistance</th>\n",
       "      <th>calories</th>\n",
       "    </tr>\n",
       "  </thead>\n",
       "  <tbody>\n",
       "    <tr>\n",
       "      <th>0</th>\n",
       "      <td>2020-06-11</td>\n",
       "      <td>1591948606</td>\n",
       "      <td>5428</td>\n",
       "      <td>4259</td>\n",
       "      <td>1575</td>\n",
       "      <td>198</td>\n",
       "    </tr>\n",
       "    <tr>\n",
       "      <th>1</th>\n",
       "      <td>2020-06-12</td>\n",
       "      <td>1592206079</td>\n",
       "      <td>7404</td>\n",
       "      <td>5226</td>\n",
       "      <td>559</td>\n",
       "      <td>182</td>\n",
       "    </tr>\n",
       "    <tr>\n",
       "      <th>2</th>\n",
       "      <td>2020-06-13</td>\n",
       "      <td>1592206079</td>\n",
       "      <td>4585</td>\n",
       "      <td>3014</td>\n",
       "      <td>418</td>\n",
       "      <td>112</td>\n",
       "    </tr>\n",
       "    <tr>\n",
       "      <th>3</th>\n",
       "      <td>2020-06-14</td>\n",
       "      <td>1592206079</td>\n",
       "      <td>7133</td>\n",
       "      <td>4646</td>\n",
       "      <td>482</td>\n",
       "      <td>169</td>\n",
       "    </tr>\n",
       "    <tr>\n",
       "      <th>4</th>\n",
       "      <td>2020-06-15</td>\n",
       "      <td>1592639673</td>\n",
       "      <td>4601</td>\n",
       "      <td>3003</td>\n",
       "      <td>314</td>\n",
       "      <td>116</td>\n",
       "    </tr>\n",
       "  </tbody>\n",
       "</table>\n",
       "</div>"
      ],
      "text/plain": [
       "         date  lastSyncTime  steps  distance  runDistance  calories\n",
       "0  2020-06-11    1591948606   5428      4259         1575       198\n",
       "1  2020-06-12    1592206079   7404      5226          559       182\n",
       "2  2020-06-13    1592206079   4585      3014          418       112\n",
       "3  2020-06-14    1592206079   7133      4646          482       169\n",
       "4  2020-06-15    1592639673   4601      3003          314       116"
      ]
     },
     "execution_count": 12,
     "metadata": {},
     "output_type": "execute_result"
    }
   ],
   "source": [
    "activity.head()"
   ]
  },
  {
   "cell_type": "code",
   "execution_count": 37,
   "metadata": {},
   "outputs": [
    {
     "data": {
      "text/html": [
       "<div>\n",
       "<style scoped>\n",
       "    .dataframe tbody tr th:only-of-type {\n",
       "        vertical-align: middle;\n",
       "    }\n",
       "\n",
       "    .dataframe tbody tr th {\n",
       "        vertical-align: top;\n",
       "    }\n",
       "\n",
       "    .dataframe thead th {\n",
       "        text-align: right;\n",
       "    }\n",
       "</style>\n",
       "<table border=\"1\" class=\"dataframe\">\n",
       "  <thead>\n",
       "    <tr style=\"text-align: right;\">\n",
       "      <th></th>\n",
       "      <th>date</th>\n",
       "      <th>lastSyncTime</th>\n",
       "      <th>steps</th>\n",
       "      <th>distance</th>\n",
       "      <th>runDistance</th>\n",
       "      <th>calories</th>\n",
       "      <th>day</th>\n",
       "      <th>month</th>\n",
       "      <th>week</th>\n",
       "      <th>week_day</th>\n",
       "      <th>year</th>\n",
       "      <th>year-month</th>\n",
       "    </tr>\n",
       "  </thead>\n",
       "  <tbody>\n",
       "    <tr>\n",
       "      <th>0</th>\n",
       "      <td>2020-06-11</td>\n",
       "      <td>1591948606</td>\n",
       "      <td>5428</td>\n",
       "      <td>4259</td>\n",
       "      <td>1575</td>\n",
       "      <td>198</td>\n",
       "      <td>11</td>\n",
       "      <td>6</td>\n",
       "      <td>24</td>\n",
       "      <td>3</td>\n",
       "      <td>2020</td>\n",
       "      <td>2020-06</td>\n",
       "    </tr>\n",
       "    <tr>\n",
       "      <th>1</th>\n",
       "      <td>2020-06-12</td>\n",
       "      <td>1592206079</td>\n",
       "      <td>7404</td>\n",
       "      <td>5226</td>\n",
       "      <td>559</td>\n",
       "      <td>182</td>\n",
       "      <td>12</td>\n",
       "      <td>6</td>\n",
       "      <td>24</td>\n",
       "      <td>4</td>\n",
       "      <td>2020</td>\n",
       "      <td>2020-06</td>\n",
       "    </tr>\n",
       "    <tr>\n",
       "      <th>2</th>\n",
       "      <td>2020-06-13</td>\n",
       "      <td>1592206079</td>\n",
       "      <td>4585</td>\n",
       "      <td>3014</td>\n",
       "      <td>418</td>\n",
       "      <td>112</td>\n",
       "      <td>13</td>\n",
       "      <td>6</td>\n",
       "      <td>24</td>\n",
       "      <td>5</td>\n",
       "      <td>2020</td>\n",
       "      <td>2020-06</td>\n",
       "    </tr>\n",
       "    <tr>\n",
       "      <th>3</th>\n",
       "      <td>2020-06-14</td>\n",
       "      <td>1592206079</td>\n",
       "      <td>7133</td>\n",
       "      <td>4646</td>\n",
       "      <td>482</td>\n",
       "      <td>169</td>\n",
       "      <td>14</td>\n",
       "      <td>6</td>\n",
       "      <td>24</td>\n",
       "      <td>6</td>\n",
       "      <td>2020</td>\n",
       "      <td>2020-06</td>\n",
       "    </tr>\n",
       "    <tr>\n",
       "      <th>4</th>\n",
       "      <td>2020-06-15</td>\n",
       "      <td>1592639673</td>\n",
       "      <td>4601</td>\n",
       "      <td>3003</td>\n",
       "      <td>314</td>\n",
       "      <td>116</td>\n",
       "      <td>15</td>\n",
       "      <td>6</td>\n",
       "      <td>25</td>\n",
       "      <td>0</td>\n",
       "      <td>2020</td>\n",
       "      <td>2020-06</td>\n",
       "    </tr>\n",
       "  </tbody>\n",
       "</table>\n",
       "</div>"
      ],
      "text/plain": [
       "        date  lastSyncTime  steps  distance  runDistance  calories  day  \\\n",
       "0 2020-06-11    1591948606   5428      4259         1575       198   11   \n",
       "1 2020-06-12    1592206079   7404      5226          559       182   12   \n",
       "2 2020-06-13    1592206079   4585      3014          418       112   13   \n",
       "3 2020-06-14    1592206079   7133      4646          482       169   14   \n",
       "4 2020-06-15    1592639673   4601      3003          314       116   15   \n",
       "\n",
       "   month  week  week_day  year year-month  \n",
       "0      6    24         3  2020    2020-06  \n",
       "1      6    24         4  2020    2020-06  \n",
       "2      6    24         5  2020    2020-06  \n",
       "3      6    24         6  2020    2020-06  \n",
       "4      6    25         0  2020    2020-06  "
      ]
     },
     "execution_count": 37,
     "metadata": {},
     "output_type": "execute_result"
    }
   ],
   "source": [
    "activity['date'] = pd.to_datetime(activity['date'])\n",
    "\n",
    "activity['day'] = activity.date.dt.day\n",
    "activity['month'] = activity.date.dt.month\n",
    "activity['week'] = activity.date.dt.isocalendar().week\n",
    "activity['week_day'] = activity.date.dt.weekday\n",
    "activity['year'] = activity.date.dt.year\n",
    "activity['year-month'] = activity.date.dt.strftime('%Y-%m')\n",
    "\n",
    "activity.head()"
   ]
  },
  {
   "cell_type": "code",
   "execution_count": 41,
   "metadata": {},
   "outputs": [
    {
     "data": {
      "text/plain": [
       "<AxesSubplot:xlabel='year-month', ylabel='steps'>"
      ]
     },
     "execution_count": 41,
     "metadata": {},
     "output_type": "execute_result"
    },
    {
     "data": {
      "image/png": "[encoded data removed]",
      "text/plain": [
       "<Figure size 1080x504 with 1 Axes>"
      ]
     },
     "metadata": {
      "needs_background": "light"
     },
     "output_type": "display_data"
    }
   ],
   "source": [
    "plt.figure(figsize=[15,7])\n",
    "\n",
    "sns.barplot(data=activity, x = 'year-month', y = 'steps')"
   ]
  }
 ],
 "metadata": {
  "kernelspec": {
   "display_name": "Python 3",
   "language": "python",
   "name": "python3"
  },
  "language_info": {
   "codemirror_mode": {
    "name": "ipython",
    "version": 3
   },
   "file_extension": ".py",
   "mimetype": "text/x-python",
   "name": "python",
   "nbconvert_exporter": "python",
   "pygments_lexer": "ipython3",
   "version": "3.8.5"
  }
 },
 "nbformat": 4,
 "nbformat_minor": 4
}
